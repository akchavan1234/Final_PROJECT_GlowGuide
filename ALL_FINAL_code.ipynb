{
 "cells": [
  {
   "cell_type": "markdown",
   "id": "06240fe9-03d3-4ea7-a058-0e9e64d114d8",
   "metadata": {},
   "source": [
    "Prediction Of Skin Care Recommendation Product"
   ]
  },
  {
   "cell_type": "code",
   "execution_count": 3,
   "id": "2e49b6e8-d53d-42b0-969c-9a883a95dfc0",
   "metadata": {},
   "outputs": [],
   "source": [
    "import pandas as pd\n",
    "import random\n",
    "import seaborn as sns\n",
    "import matplotlib.pyplot as plt\n",
    "import joblib\n",
    "\n",
    "from sklearn.model_selection import train_test_split\n",
    "from sklearn.preprocessing import OrdinalEncoder, StandardScaler, LabelEncoder\n",
    "from sklearn.compose import ColumnTransformer\n",
    "from sklearn.pipeline import Pipeline\n",
    "from sklearn.ensemble import RandomForestClassifier\n",
    "from sklearn.metrics import accuracy_score\n"
   ]
  },
  {
   "cell_type": "code",
   "execution_count": null,
   "id": "9d777f64-d618-4e1a-9620-4022b805067b",
   "metadata": {},
   "outputs": [],
   "source": [
    "df = pd.read_csv(\"GlowGuide_Enhanced_Dataset.csv\")  # Change filename if needed"
   ]
  },
  {
   "cell_type": "code",
   "execution_count": null,
   "id": "86860e7d-9a40-4c20-a03b-4a77952fb23b",
   "metadata": {},
   "outputs": [],
   "source": [
    "df"
   ]
  },
  {
   "cell_type": "code",
   "execution_count": null,
   "id": "f023d15a-a3b9-4bc2-b825-3698bf3649a5",
   "metadata": {},
   "outputs": [],
   "source": [
    "# ----------------------------\n",
    "# Step 2: EDA Process\n",
    "# ----------------------------\n",
    "\n",
    "\n",
    "# View first 5 rows\n",
    "print(df.head())"
   ]
  },
  {
   "cell_type": "code",
   "execution_count": null,
   "id": "6f164f39-9aa4-4f54-8ab3-1a54768bbcb4",
   "metadata": {},
   "outputs": [],
   "source": [
    "print(df.tail())"
   ]
  },
  {
   "cell_type": "code",
   "execution_count": null,
   "id": "70d3f3c4-f44a-4013-a0f0-579947c6f4e5",
   "metadata": {},
   "outputs": [],
   "source": [
    "# Check for missing values\n",
    "print(\"\\nMissing values:\\n\", df.isnull().sum())"
   ]
  },
  {
   "cell_type": "code",
   "execution_count": null,
   "id": "08486a0e-eac0-43ea-ace6-a47a2285f51a",
   "metadata": {},
   "outputs": [],
   "source": [
    "print(df.info())"
   ]
  },
  {
   "cell_type": "code",
   "execution_count": null,
   "id": "3b39715d-244e-4369-8652-302b2782a55a",
   "metadata": {},
   "outputs": [],
   "source": [
    "print(df.shape)"
   ]
  },
  {
   "cell_type": "code",
   "execution_count": null,
   "id": "23187274-7f7c-4674-aad9-d0a376bc71ee",
   "metadata": {},
   "outputs": [],
   "source": [
    "# Only for numeric columns\n",
    "print(\"\\nBasic statistics:\\n\", df.describe())\n"
   ]
  },
  {
   "cell_type": "code",
   "execution_count": null,
   "id": "6015cdc0-53af-4d01-abb8-4c56b88b7ec2",
   "metadata": {},
   "outputs": [],
   "source": [
    "# Check data types\n",
    "print(\"\\nData types:\\n\", df.dtypes)\n"
   ]
  },
  {
   "cell_type": "code",
   "execution_count": null,
   "id": "349c52ec-969d-4ceb-bc2f-6d4ea7b8f9fc",
   "metadata": {},
   "outputs": [],
   "source": [
    "for col in df.columns:\n",
    "    print(f\"{col} → Unique values: {df[col].nunique()}\")\n",
    "    print(df[col].value_counts())\n",
    "    print('-'*40)"
   ]
  },
  {
   "cell_type": "code",
   "execution_count": null,
   "id": "86e6d722-4e54-40d9-9ebf-c89d10f63ff8",
   "metadata": {},
   "outputs": [],
   "source": [
    "### Bar Charts\n",
    "# Skin Concern distribution\n",
    "sns.countplot(data=df, x='Skin_Concern', order=df['Skin_Concern'].value_counts().index)\n",
    "plt.xticks(rotation=90)\n",
    "plt.title(\"Skin Concerns Distribution\")\n",
    "plt.tight_layout()\n",
    "plt.show()\n",
    "\n",
    "# Gender distribution\n",
    "sns.countplot(data=df, x='Gender')\n",
    "plt.title(\"Gender Distribution\")\n",
    "plt.show()\n",
    "\n",
    "# Skin Type\n",
    "sns.countplot(data=df, x='Skin_Type')\n",
    "plt.title(\"Skin Type Distribution\")\n",
    "plt.show()\n",
    "\n",
    "# Skin Tone\n",
    "sns.countplot(data=df, x='Skin_Tone')\n",
    "plt.title(\"Skin Tone Distribution\")\n",
    "plt.show()\n"
   ]
  },
  {
   "cell_type": "code",
   "execution_count": null,
   "id": "fb3cc760-cf94-40c6-9a11-06115f6fcef0",
   "metadata": {},
   "outputs": [],
   "source": [
    "\n",
    "####Histogram\n",
    "sns.histplot(data=df, x='Age', bins=20, kde=True, color='orange')\n",
    "plt.title(\"Age Distribution\")\n",
    "plt.show()"
   ]
  },
  {
   "cell_type": "code",
   "execution_count": null,
   "id": "3bdd09bc-adb5-489d-af85-556fb0bb9c2a",
   "metadata": {},
   "outputs": [],
   "source": [
    "#### Piechart\n",
    "\n",
    "top_products = df['Recommended_Product'].value_counts().head(10)\n",
    "\n",
    "# Plot\n",
    "top_products.plot.pie(autopct='%1.1f%%', startangle=90)\n",
    "plt.title(\"Top 10 Recommended Products\")\n",
    "plt.ylabel(\"\")\n",
    "plt.show()\n"
   ]
  },
  {
   "cell_type": "code",
   "execution_count": null,
   "id": "03a12f43-b632-4621-96c4-9d42228d1db9",
   "metadata": {},
   "outputs": [],
   "source": [
    "\n",
    "#### HEATMAP\n",
    "# Crosstab: Skin Concern vs Recommended Product\n",
    "pivot = pd.crosstab(df['Skin_Concern'], df['Recommended_Product'])\n",
    "\n",
    "# Plot heatmap with 'coolwarm' color\n",
    "plt.figure(figsize=(15, 8))\n",
    "sns.heatmap(\n",
    "    pivot,\n",
    "    cmap=\"coolwarm\",      \n",
    "    linewidths=0.5,\n",
    "    annot=True,\n",
    "    fmt='d',\n",
    "    cbar_kws={'label': 'Frequency'}\n",
    ")\n",
    "\n",
    "plt.title(\"Skin Concern vs Recommended Product\", fontsize=14)\n",
    "plt.xticks(rotation=45, ha='right')\n",
    "plt.yticks(rotation=0)\n",
    "plt.tight_layout()\n",
    "plt.show()\n",
    "\n"
   ]
  },
  {
   "cell_type": "code",
   "execution_count": null,
   "id": "0c090b1f-68ee-4547-ae16-1bd7063d3b15",
   "metadata": {},
   "outputs": [],
   "source": [
    "from sklearn.preprocessing import LabelEncoder\n",
    "\n",
    "# Create a copy of the dataframe\n",
    "df_encoded = df.copy()\n",
    "\n",
    "# Label encode all object (categorical) columns\n",
    "le = LabelEncoder()\n",
    "for col in df_encoded.columns:\n",
    "    if df_encoded[col].dtype == 'object':\n",
    "        df_encoded[col] = le.fit_transform(df_encoded[col])\n"
   ]
  },
  {
   "cell_type": "code",
   "execution_count": null,
   "id": "07ae6a91-6a2b-4c98-aae9-65cd69481c62",
   "metadata": {},
   "outputs": [],
   "source": [
    "# Compute correlation matrix\n",
    "correlation_matrix = df_encoded.corr()\n",
    "\n",
    "# Display the matrix\n",
    "print(\"\\nCorrelation Matrix:\\n\")\n",
    "print(correlation_matrix)\n"
   ]
  },
  {
   "cell_type": "code",
   "execution_count": null,
   "id": "31140586-f7fb-4883-86a5-052bf91338e4",
   "metadata": {},
   "outputs": [],
   "source": [
    "\n",
    "\n",
    "# Plot heatmap\n",
    "plt.figure(figsize=(10, 8))\n",
    "sns.heatmap(correlation_matrix, annot=True, cmap='coolwarm', linewidths=0.5, fmt=\".2f\")\n",
    "plt.title(\" Correlation Heatmap of Skincare Dataset\")\n",
    "plt.show()"
   ]
  },
  {
   "cell_type": "code",
   "execution_count": null,
   "id": "9247ee42-ba41-438f-b82c-c6db482ad8fa",
   "metadata": {},
   "outputs": [],
   "source": [
    "#### MODEL TRAINING\n",
    "\n",
    "# ----------------------------\n",
    "# Step 4: Prepare features and target\n",
    "# ----------------------------\n",
    "\n",
    "X = df[[\"Skin_Concern\", \"Skin_Type\", \"Skin_Tone\", \"Age\", \"Gender\"]]\n",
    "y = df[\"Recommended_Product\"]"
   ]
  },
  {
   "cell_type": "code",
   "execution_count": null,
   "id": "eeca4de9-70cb-4abb-bac2-9f0600268d6b",
   "metadata": {},
   "outputs": [],
   "source": [
    "# ----------------------------\n",
    "# Step 5: Define Column Transformer\n",
    "# ----------------------------\n",
    "\n",
    "# Encode all categorical columns using OrdinalEncoder\n",
    "categorical_features = [\"Skin_Concern\", \"Skin_Type\", \"Skin_Tone\", \"Gender\"]\n",
    "\n",
    "preprocessor = ColumnTransformer(\n",
    "    transformers=[\n",
    "        ('cat', OrdinalEncoder(handle_unknown='use_encoded_value', unknown_value=-1), categorical_features)\n",
    "    ],\n",
    "    remainder='passthrough'  # to keep Age as it is\n",
    ")"
   ]
  },
  {
   "cell_type": "code",
   "execution_count": null,
   "id": "19af26fb-d9b9-42a7-b72e-a4f39cd2e8f1",
   "metadata": {},
   "outputs": [],
   "source": [
    "# ----------------------------\n",
    "# Step 6: Build Pipeline\n",
    "# ----------------------------\n",
    "\n",
    "pipeline = Pipeline(steps=[\n",
    "    ('preprocessor', preprocessor),\n",
    "    ('classifier', RandomForestClassifier(n_estimators=100, random_state=42))\n",
    "])\n"
   ]
  },
  {
   "cell_type": "code",
   "execution_count": null,
   "id": "789b3397-dc0f-4bf1-bbb1-e66177e48c40",
   "metadata": {},
   "outputs": [],
   "source": [
    "# ----------------------------\n",
    "# Step 7: Train-test split\n",
    "# ----------------------------\n",
    "\n",
    "X_train, X_test, y_train, y_test = train_test_split(\n",
    "    X, y, test_size=0.2, random_state=42\n",
    ")\n"
   ]
  },
  {
   "cell_type": "code",
   "execution_count": null,
   "id": "37b0adce-a543-4518-86ec-0fcabdd03faa",
   "metadata": {},
   "outputs": [],
   "source": [
    "# ----------------------------\n",
    "# Step 8: Fit the Pipeline\n",
    "# ----------------------------\n",
    "\n",
    "pipeline.fit(X_train, y_train)\n"
   ]
  },
  {
   "cell_type": "code",
   "execution_count": null,
   "id": "52aaaecc-a0f5-4ba3-83ae-602c4695fadf",
   "metadata": {},
   "outputs": [],
   "source": [
    "# ----------------------------\n",
    "# Step 9: Accuracy\n",
    "# ----------------------------\n",
    "\n",
    "train_accuracy = pipeline.score(X_train, y_train)\n",
    "test_accuracy = pipeline.score(X_test, y_test)\n",
    "\n",
    "print(\"Training Accuracy:\", round(train_accuracy * 100, 2), \"%\")\n",
    "print(\"Testing Accuracy:\", round(test_accuracy * 100, 2), \"%\")\n"
   ]
  },
  {
   "cell_type": "code",
   "execution_count": null,
   "id": "12f9880d-b1b7-4af2-87cc-ce8a69d264e5",
   "metadata": {},
   "outputs": [],
   "source": [
    "def predict_product(concern, skin_type, skin_tone, age, gender):\n",
    "    input_data = pd.DataFrame([[concern, skin_type, skin_tone, age, gender]],\n",
    "                              columns=[\"Skin_Concern\", \"Skin_Type\", \"Skin_Tone\", \"Age\", \"Gender\"])\n",
    "    return pipeline.predict(input_data)[0]\n",
    "\n",
    "# Try it\n",
    "print(predict_product(\"Pigmentation\", \"Dry\", \"Medium\", 24, \"Female\"))\n"
   ]
  },
  {
   "cell_type": "code",
   "execution_count": null,
   "id": "fcfd8f0d-a451-4c9b-a43d-960472173718",
   "metadata": {},
   "outputs": [],
   "source": [
    "\n",
    "# Save the pipeline to a .pkl file\n",
    "joblib.dump(pipeline, \"recommended_product_model.pkl\")\n",
    "print(\"Model saved as 'recommended_product_model.pkl'\")\n"
   ]
  },
  {
   "cell_type": "raw",
   "id": "07816eb3-a6de-41dd-bed0-0b1c5164c7f2",
   "metadata": {},
   "source": []
  },
  {
   "cell_type": "markdown",
   "id": "5e13747b-7a37-4ea4-a4f4-3667e4185f96",
   "metadata": {},
   "source": [
    "HOME REMEDY PREDICTION "
   ]
  },
  {
   "cell_type": "code",
   "execution_count": null,
   "id": "5275c943-b5e8-4907-91ae-4a1e481fa8f1",
   "metadata": {},
   "outputs": [],
   "source": [
    "# Step 2: Define Data Parameters\n",
    "\n",
    "# 20 Skin Concerns\n",
    "skin_concerns = [\n",
    "    \"Acne\", \"Dryness\", \"Oily Skin\", \"Wrinkles\", \"Dark Circles\",\n",
    "    \"Pigmentation\", \"Sunburn\", \"Blackheads\", \"Whiteheads\", \"Dullness\",\n",
    "    \"Uneven Skin Tone\", \"Pores\", \"Rosacea\", \"Redness\", \"Itchy Skin\",\n",
    "    \"Sagging\", \"Dark Spots\", \"Tanning\", \"Inflammation\", \"Eczema\"\n",
    "]\n",
    "\n",
    "# 20 Home Remedies (Mapped 1-to-1)\n",
    "home_remedies = [\n",
    "    \"Honey and Cinnamon Mask\", \"Aloe Vera Gel\", \"Oatmeal and Yogurt Pack\", \"Cucumber Slices\",\n",
    "    \"Cold Green Tea Bags\", \"Potato Juice\", \"Tomato Pulp\", \"Multani Mitti (Fuller’s Earth)\",\n",
    "    \"Lemon and Honey Mix\", \"Coconut Oil\", \"Turmeric and Milk Paste\", \"Papaya Mash\",\n",
    "    \"Apple Cider Vinegar Toner\", \"Rose Water Spray\", \"Neem Paste\", \"Curd and Besan Pack\",\n",
    "    \"Baking Soda Scrub\", \"Coriander Leaf Juice\", \"Sandalwood Powder Paste\", \"Mint Leaf Paste\"\n",
    "]\n",
    "\n",
    "# Create mapping from concern to home remedy\n",
    "remedy_mapping = dict(zip(skin_concerns, home_remedies))"
   ]
  },
  {
   "cell_type": "code",
   "execution_count": null,
   "id": "2fc2f87f-7cfd-4e9d-be0e-80eebd752908",
   "metadata": {},
   "outputs": [],
   "source": [
    "# Step 3: Generate Dataset of 15,000 Records\n",
    "random.seed(42)\n",
    "data = []\n",
    "for _ in range(15000):\n",
    "    concern = random.choice(skin_concerns)\n",
    "    remedy = remedy_mapping[concern]\n",
    "    data.append([concern, remedy])\n",
    "\n",
    "df = pd.DataFrame(data, columns=[\"Skin_Concern\", \"Home_Remedy\"])\n",
    "\n"
   ]
  },
  {
   "cell_type": "code",
   "execution_count": null,
   "id": "6dcc55d3-b592-479d-8cee-d95e3fc1c086",
   "metadata": {},
   "outputs": [],
   "source": [
    "\n",
    "plt.figure(figsize=(14, 6))\n",
    "sns.countplot(data=df, y=\"Skin_Concern\", order=df[\"Skin_Concern\"].value_counts().index, palette=\"Spectral\")\n",
    "plt.title(\"Frequency of Each Skin Concern in the Dataset\")\n",
    "plt.xlabel(\"Count\")\n",
    "plt.ylabel(\"Skin Concern\")\n",
    "plt.tight_layout()\n",
    "plt.show()\n"
   ]
  },
  {
   "cell_type": "code",
   "execution_count": null,
   "id": "bcd3201e-1f19-4b42-91fa-389824a1bca8",
   "metadata": {},
   "outputs": [],
   "source": [
    "pivot = pd.crosstab(df[\"Skin_Concern\"], df[\"Home_Remedy\"])\n",
    "plt.figure(figsize=(14,10))\n",
    "sns.heatmap(pivot, annot=True, fmt='d', cmap='YlGnBu', linewidths=0.5)\n",
    "plt.title(\"Skin Concern vs Home Remedy Mapping\")\n",
    "plt.tight_layout()\n",
    "plt.show()\n"
   ]
  },
  {
   "cell_type": "code",
   "execution_count": null,
   "id": "c1d336e6-5198-47a7-bbe4-64334aa9650d",
   "metadata": {},
   "outputs": [],
   "source": [
    "plt.figure(figsize=(12,6))\n",
    "sns.countplot(data=df, x=\"Home_Remedy\", order=df[\"Home_Remedy\"].value_counts().index, palette=\"cubehelix\")\n",
    "plt.title(\"Frequency of All Home Remedies\")\n",
    "plt.ylabel(\"Count\")\n",
    "plt.xticks(rotation=90)\n",
    "plt.tight_layout()\n",
    "plt.show()\n",
    "\n"
   ]
  },
  {
   "cell_type": "code",
   "execution_count": null,
   "id": "b5763ff0-29ec-4210-a2d2-7051638e1250",
   "metadata": {},
   "outputs": [],
   "source": [
    "cumulative = df['Skin_Concern'].value_counts(normalize=True).cumsum()\n",
    "plt.figure(figsize=(10,5))\n",
    "sns.lineplot(x=cumulative.index, y=cumulative.values, marker='o')\n",
    "plt.xticks(rotation=45)\n",
    "plt.title(\"Cumulative Distribution of Skin Concerns\")\n",
    "plt.ylabel(\"Cumulative %\")\n",
    "plt.tight_layout()\n",
    "plt.show()\n"
   ]
  },
  {
   "cell_type": "code",
   "execution_count": null,
   "id": "73fc890d-4e75-48f3-ad54-d045a9191497",
   "metadata": {},
   "outputs": [],
   "source": [
    "# Step 4: Train-Test Split\n",
    "X = df[[\"Skin_Concern\"]]\n",
    "y = df[\"Home_Remedy\"]"
   ]
  },
  {
   "cell_type": "code",
   "execution_count": null,
   "id": "50a56350-7a36-473b-a863-0b3702dd78f8",
   "metadata": {},
   "outputs": [],
   "source": [
    "# Step 5: Preprocessing Pipeline\n",
    "preprocessor = ColumnTransformer(transformers=[\n",
    "    ('cat', OrdinalEncoder(), [\"Skin_Concern\"])\n",
    "])"
   ]
  },
  {
   "cell_type": "code",
   "execution_count": null,
   "id": "862ec27b-d84e-4b75-9e0a-3b713e61acb4",
   "metadata": {},
   "outputs": [],
   "source": [
    "\n",
    "# Step 6: Full Pipeline with Model\n",
    "pipeline = Pipeline(steps=[\n",
    "    ('preprocessor', preprocessor),\n",
    "    ('classifier', RandomForestClassifier(n_estimators=100, random_state=42))\n",
    "])"
   ]
  },
  {
   "cell_type": "code",
   "execution_count": null,
   "id": "cd75f2f5-c7d0-4f58-bc42-211c1d80ffa8",
   "metadata": {},
   "outputs": [],
   "source": [
    "\n",
    "# Step 7: Train-Test Split\n",
    "X_train, X_test, y_train, y_test = train_test_split(\n",
    "    X, y, test_size=0.2, random_state=42\n",
    ")\n"
   ]
  },
  {
   "cell_type": "code",
   "execution_count": null,
   "id": "4b366577-9863-4986-ba37-5fabb8ef38b9",
   "metadata": {},
   "outputs": [],
   "source": [
    "# Step 8: Train the Model\n",
    "pipeline.fit(X_train, y_train)"
   ]
  },
  {
   "cell_type": "code",
   "execution_count": null,
   "id": "de49f78d-094b-4cc8-8f80-7828e237e80e",
   "metadata": {},
   "outputs": [],
   "source": [
    "# Step 9: Accuracy Evaluation\n",
    "train_accuracy = pipeline.score(X_train, y_train)\n",
    "test_accuracy = pipeline.score(X_test, y_test)"
   ]
  },
  {
   "cell_type": "code",
   "execution_count": null,
   "id": "ab28b375-5c12-4d58-a216-8bcb646b99cc",
   "metadata": {},
   "outputs": [],
   "source": [
    "# Step 10: Print Accuracies\n",
    "print(\"Training Accuracy:\", round(train_accuracy * 100, 2), \"%\")\n",
    "print(\"Testing Accuracy:\", round(test_accuracy * 100, 2), \"%\")\n"
   ]
  },
  {
   "cell_type": "code",
   "execution_count": null,
   "id": "21cfac96-a344-47f5-bae9-47086888c464",
   "metadata": {},
   "outputs": [],
   "source": [
    "\n",
    "# Step 11: Predict Home Remedy for a given skin concern\n",
    "example_input = pd.DataFrame({\n",
    "    \"Skin_Concern\": [\"Pigmentation\"]  # 🔁 Change this to test other concerns\n",
    "})\n",
    "predicted_remedy = pipeline.predict(example_input)\n",
    "\n",
    "print(\"🧴 Predicted Home Remedy for\", example_input[\"Skin_Concern\"][0], \"→\", predicted_remedy[0])"
   ]
  },
  {
   "cell_type": "code",
   "execution_count": null,
   "id": "0ffb0110-f762-4c5f-b909-4bbab8c70d07",
   "metadata": {},
   "outputs": [],
   "source": [
    "# Step 11: Save the Trained Model to a .joblib File\n",
    "\n",
    "\n",
    "joblib.dump(pipeline, \"home_remedy_model.joblib\")\n",
    "print(\"Model saved as 'home_remedy_model.joblib'\")\n"
   ]
  },
  {
   "cell_type": "raw",
   "id": "26440625-19d6-4fa3-a24e-52978a9e3ce0",
   "metadata": {},
   "source": []
  },
  {
   "cell_type": "raw",
   "id": "c3adebbd-ded3-4dad-ab48-a155e4c96f87",
   "metadata": {},
   "source": [
    "STRESS LEVEL PREDICTION"
   ]
  },
  {
   "cell_type": "code",
   "execution_count": null,
   "id": "83585d8f-e5ad-4d48-ad29-dfd4168e2e78",
   "metadata": {},
   "outputs": [],
   "source": [
    "# Step 2: Generate Dataset\n",
    "def calculate_stress_level(sleep, screen_time):\n",
    "    if sleep >= 7 and screen_time <= 4:\n",
    "        return \"Low\"\n",
    "    elif 5 <= sleep < 7 or 4 < screen_time <= 6:\n",
    "        return \"Moderate\"\n",
    "    else:\n",
    "        return \"High\"\n",
    "\n",
    "random.seed(42)\n",
    "data = []\n",
    "\n",
    "for _ in range(15000):\n",
    "    sleep_hours = round(random.uniform(3.5, 9.5), 1)\n",
    "    screen_time = round(random.uniform(2, 10), 1)\n",
    "    stress = calculate_stress_level(sleep_hours, screen_time)\n",
    "    data.append([sleep_hours, screen_time, stress])\n",
    "\n",
    "df = pd.DataFrame(data, columns=[\"Sleep_Hours\", \"Screen_Time_Hours\", \"Stress_Level\"])"
   ]
  },
  {
   "cell_type": "code",
   "execution_count": null,
   "id": "57f98c0d-f8bb-4918-a289-a7b9a211ffb8",
   "metadata": {},
   "outputs": [],
   "source": [
    "# Step 3: Features and Target\n",
    "X = df[[\"Sleep_Hours\", \"Screen_Time_Hours\"]]\n",
    "y = df[\"Stress_Level\"]\n"
   ]
  },
  {
   "cell_type": "code",
   "execution_count": null,
   "id": "9d8648d4-1d85-4c09-9d95-c5400ca3a303",
   "metadata": {},
   "outputs": [],
   "source": [
    "# Step 4: Train-Test Split\n",
    "X_train, X_test, y_train, y_test = train_test_split(\n",
    "    X, y, test_size=0.2, random_state=42\n",
    ")"
   ]
  },
  {
   "cell_type": "code",
   "execution_count": null,
   "id": "fe37fc31-e8a8-4be8-82c9-037f1cd6cd8b",
   "metadata": {},
   "outputs": [],
   "source": [
    "# Step 5: Pipeline with Preprocessing + Model\n",
    "pipeline = Pipeline(steps=[\n",
    "    ('scaler', StandardScaler()),\n",
    "    ('classifier', RandomForestClassifier(random_state=42))\n",
    "])"
   ]
  },
  {
   "cell_type": "code",
   "execution_count": null,
   "id": "ab90e353-e6f1-4ae3-843d-557f38e0ebfa",
   "metadata": {},
   "outputs": [],
   "source": [
    "# Step 6: Train the Model\n",
    "pipeline.fit(X_train, y_train)"
   ]
  },
  {
   "cell_type": "code",
   "execution_count": null,
   "id": "8a507c87-ead7-4b57-981b-93b8fcd0e86c",
   "metadata": {},
   "outputs": [],
   "source": [
    "# Step 7: Accuracy\n",
    "train_accuracy = pipeline.score(X_train, y_train)\n",
    "test_accuracy = pipeline.score(X_test, y_test)"
   ]
  },
  {
   "cell_type": "code",
   "execution_count": null,
   "id": "99bd7829-0aa9-4e7a-abe6-56ae8948470b",
   "metadata": {},
   "outputs": [],
   "source": [
    "print(\"Training Accuracy:\", round(train_accuracy * 100, 2), \"%\")\n",
    "print(\"Testing Accuracy:\", round(test_accuracy * 100, 2), \"%\")"
   ]
  },
  {
   "cell_type": "code",
   "execution_count": null,
   "id": "001cb5d3-9b8a-4958-9457-486e93491671",
   "metadata": {},
   "outputs": [],
   "source": [
    "# Step 8: Prediction Example\n",
    "example_input = [[6.0, 7.0]]  # sleep = 6 hours, screen time = 7 hours\n",
    "predicted = pipeline.predict(example_input)\n",
    "print(\"📌 Predicted Stress Level:\", predicted[0])\n"
   ]
  },
  {
   "cell_type": "code",
   "execution_count": null,
   "id": "4054b5dd-6e88-407d-82d1-0407e978a64f",
   "metadata": {},
   "outputs": [],
   "source": [
    "# Step 9: Save the trained model to a .joblib file\n",
    "import joblib\n",
    "\n",
    "joblib.dump(pipeline, \"stress_level_model.pkl\")\n",
    "print(\"Model saved as 'stress_level_model.pkl'\")\n"
   ]
  },
  {
   "cell_type": "raw",
   "id": "d8a9d217-512f-4f34-af6e-dc77d173ad05",
   "metadata": {},
   "source": []
  },
  {
   "cell_type": "raw",
   "id": "3ede53fa-1184-45eb-ba87-5ec32d4f738f",
   "metadata": {},
   "source": [
    "EXERCISE SUGGESTION"
   ]
  },
  {
   "cell_type": "code",
   "execution_count": null,
   "id": "cb60e8d2-f2f5-4ae4-82b0-5c449118568d",
   "metadata": {},
   "outputs": [],
   "source": [
    "\n",
    "# Set random seed\n",
    "random.seed(42)\n",
    "\n",
    "# Step 1: Define Stress Level Rules\n",
    "def calculate_stress_level(sleep, screen_time):\n",
    "    if sleep >= 7 and screen_time <= 4:\n",
    "        return \"Low\"\n",
    "    elif 5 <= sleep < 7 or 4 < screen_time <= 6:\n",
    "        return \"Moderate\"\n",
    "    else:\n",
    "        return \"High\""
   ]
  },
  {
   "cell_type": "code",
   "execution_count": null,
   "id": "e181a237-0feb-4ddc-acbe-7d6611e9752d",
   "metadata": {},
   "outputs": [],
   "source": [
    "# Step 2: Exercise mappings\n",
    "exercise_map = {\n",
    "    \"Low\": {\n",
    "        \"Exercise\": \"Walking\",\n",
    "        \"Duration\": 20,\n",
    "        \"Description\": \"Light walking to maintain calm and health\"\n",
    "    },\n",
    "    \"Moderate\": {\n",
    "        \"Exercise\": \"Yoga\",\n",
    "        \"Duration\": 30,\n",
    "        \"Description\": \"Breathing and flexibility to reduce stress\"\n",
    "    },\n",
    "    \"High\": {\n",
    "        \"Exercise\": \"Meditation\",\n",
    "        \"Duration\": 40,\n",
    "        \"Description\": \"Deep meditation to calm high stress\"\n",
    "    }\n",
    "}"
   ]
  },
  {
   "cell_type": "code",
   "execution_count": null,
   "id": "eac69d17-7001-42f2-bbda-baf0311151d4",
   "metadata": {},
   "outputs": [],
   "source": []
  },
  {
   "cell_type": "code",
   "execution_count": null,
   "id": "febb5cb6-f55b-4bc5-8fc8-ff4b9ddc07ba",
   "metadata": {},
   "outputs": [],
   "source": [
    "# Step 4: Generate 15,000 records\n",
    "data = []\n",
    "\n",
    "for _ in range(15000):\n",
    "    sleep = round(random.uniform(3.5, 9.5), 1)\n",
    "    screen = round(random.uniform(2, 10), 1)\n",
    "    stress = calculate_stress_level(sleep, screen)\n",
    "    exercise = exercise_map[stress][\"Exercise\"]\n",
    "    duration = exercise_map[stress][\"Duration\"]\n",
    "    description = exercise_map[stress][\"Description\"]\n",
    "    \n",
    "   \n",
    "    \n",
    "    row = [sleep, screen, stress, exercise, duration, description]\n",
    "    data.append(row)\n"
   ]
  },
  {
   "cell_type": "code",
   "execution_count": null,
   "id": "5629a7e7-0d42-4841-8373-978eb5429cd1",
   "metadata": {},
   "outputs": [],
   "source": [
    "# Step 5: Create DataFrame\n",
    "columns = [\"Sleep_Hours\", \"Screen_Time_Hours\", \"Stress_Level\",\n",
    "           \"Recommended_Exercise\", \"Exercise_Duration\", \"Exercise_Description\"]\n",
    "\n",
    "df = pd.DataFrame(data, columns=columns)\n"
   ]
  },
  {
   "cell_type": "code",
   "execution_count": null,
   "id": "7d0296b2-415c-4c66-9237-7d1d29ea5068",
   "metadata": {},
   "outputs": [],
   "source": [
    "# Step 6: Save (optional)\n",
    "df.to_csv(\"stress_exercise_dataset.csv\", index=False)\n",
    "\n",
    "# Display few rows\n",
    "df.head()\n"
   ]
  },
  {
   "cell_type": "code",
   "execution_count": null,
   "id": "89f2f1c7-0b37-4c9f-9b64-fb205354f162",
   "metadata": {},
   "outputs": [],
   "source": [
    "# Step 2: Load the Dataset\n",
    "df = pd.read_csv(\"stress_exercise_dataset.csv\")\n",
    "\n",
    "# Optionally drop extra 10 columns (for simplicity)\n",
    "df = df[[\"Sleep_Hours\", \"Screen_Time_Hours\", \"Recommended_Exercise\", \"Exercise_Duration\", \"Exercise_Description\"]]\n",
    "\n",
    "df.to_csv(\"stress_exercise_dataset_cleaned.csv\", index=False)\n",
    "print(\"Cleaned dataset saved successfully as 'stress_exercise_dataset_cleaned.csv'.\")\n",
    "\n"
   ]
  },
  {
   "cell_type": "code",
   "execution_count": null,
   "id": "74732409-83e2-4a3d-a97a-03a9b2f6d077",
   "metadata": {},
   "outputs": [],
   "source": [
    "# Step 3: Define Features\n",
    "X = df[[\"Sleep_Hours\", \"Screen_Time_Hours\"]]\n",
    "\n",
    "# Separate targets\n",
    "y_exercise = df[\"Recommended_Exercise\"]\n",
    "y_duration = df[\"Exercise_Duration\"]\n",
    "y_description = df[\"Exercise_Description\"]"
   ]
  },
  {
   "cell_type": "code",
   "execution_count": null,
   "id": "2f5272de-2a81-464a-9a17-4a1e404129e8",
   "metadata": {},
   "outputs": [],
   "source": [
    "# Step 4: Preprocessing Pipeline\n",
    "# (Sleep and Screen Time are numeric, no encoding needed)\n",
    "preprocessor = ColumnTransformer(transformers=[], remainder='passthrough')"
   ]
  },
  {
   "cell_type": "code",
   "execution_count": null,
   "id": "3b5e9e61-a1f6-469f-b37c-71a29cc9077f",
   "metadata": {},
   "outputs": [],
   "source": [
    "# Step 5: Pipelines for each target\n",
    "pipeline_exercise = Pipeline([\n",
    "    ('preprocessing', preprocessor),\n",
    "    ('classifier', RandomForestClassifier(random_state=42))\n",
    "])\n",
    "\n",
    "pipeline_duration = Pipeline([\n",
    "    ('preprocessing', preprocessor),\n",
    "    ('classifier', RandomForestClassifier(random_state=42))\n",
    "])\n",
    "\n",
    "pipeline_description = Pipeline([\n",
    "    ('preprocessing', preprocessor),\n",
    "    ('classifier', RandomForestClassifier(random_state=42))\n",
    "])"
   ]
  },
  {
   "cell_type": "code",
   "execution_count": null,
   "id": "600f4825-c98b-448c-87d6-c0e22c6c7c69",
   "metadata": {},
   "outputs": [],
   "source": [
    "# Step 6: Train-Test Split\n",
    "X_train, X_test, y1_train, y1_test = train_test_split(X, y_exercise, test_size=0.2, random_state=42)\n",
    "_, _, y2_train, y2_test = train_test_split(X, y_duration, test_size=0.2, random_state=42)\n",
    "_, _, y3_train, y3_test = train_test_split(X, y_description, test_size=0.2, random_state=42)"
   ]
  },
  {
   "cell_type": "code",
   "execution_count": null,
   "id": "e5908cde-5fd8-4c99-b04c-97c93ff8bd61",
   "metadata": {},
   "outputs": [],
   "source": [
    "# Step 7: Train All Models\n",
    "pipeline_exercise.fit(X_train, y1_train)\n",
    "pipeline_duration.fit(X_train, y2_train)\n",
    "pipeline_description.fit(X_train, y3_train)\n"
   ]
  },
  {
   "cell_type": "code",
   "execution_count": null,
   "id": "924689e5-d890-4e6b-baed-69d3bc121a26",
   "metadata": {},
   "outputs": [],
   "source": [
    "# Step 8: Accuracy Scores\n",
    "train_acc1 = pipeline_exercise.score(X_train, y1_train)\n",
    "test_acc1 = pipeline_exercise.score(X_test, y1_test)\n",
    "\n",
    "train_acc2 = pipeline_duration.score(X_train, y2_train)\n",
    "test_acc2 = pipeline_duration.score(X_test, y2_test)\n",
    "\n",
    "train_acc3 = pipeline_description.score(X_train, y3_train)\n",
    "test_acc3 = pipeline_description.score(X_test, y3_test)\n",
    "\n",
    "print(\"Recommended Exercise - Train Accuracy:\", round(train_acc1 * 100, 2), \"% | Test Accuracy:\", round(test_acc1 * 100, 2), \"%\")\n",
    "print(\"Exercise Duration - Train Accuracy:\", round(train_acc2 * 100, 2), \"% | Test Accuracy:\", round(test_acc2 * 100, 2), \"%\")\n",
    "print(\"Exercise Description - Train Accuracy:\", round(train_acc3 * 100, 2), \"% | Test Accuracy:\", round(test_acc3 * 100, 2), \"%\")\n"
   ]
  },
  {
   "cell_type": "code",
   "execution_count": null,
   "id": "470b5754-ac77-48be-b5de-2e0817589432",
   "metadata": {},
   "outputs": [],
   "source": [
    "df.columns"
   ]
  },
  {
   "cell_type": "code",
   "execution_count": null,
   "id": "e8e76739-662e-46cd-8e47-b7f6dc2d1e7d",
   "metadata": {},
   "outputs": [],
   "source": [
    "# Example input\n",
    "sleep_hours = 5.0\n",
    "screen_time = 7.5\n",
    "\n",
    "user_input = [[sleep_hours, screen_time]]\n",
    "\n",
    "# Predict each output\n",
    "pred_exercise = pipeline_exercise.predict(user_input)[0]\n",
    "pred_duration = pipeline_duration.predict(user_input)[0]\n",
    "pred_description = pipeline_description.predict(user_input)[0]\n",
    "\n",
    "print(\"\\n📌 Prediction Result\")\n",
    "print(\"Recommended Exercise:\", pred_exercise)\n",
    "print(\"Duration (minutes):\", pred_duration)\n",
    "print(\"Description:\", pred_description)\n"
   ]
  },
  {
   "cell_type": "code",
   "execution_count": null,
   "id": "eec6f4c0-5aec-45ab-98fe-00d18dc6f6f7",
   "metadata": {},
   "outputs": [],
   "source": [
    "\n",
    "# Save each model to a separate joblib file\n",
    "joblib.dump(pipeline_exercise, 'exercise_recommendation_model.joblib')\n",
    "joblib.dump(pipeline_duration, 'exercise_duration_model.joblib')\n",
    "joblib.dump(pipeline_description, 'exercise_description_model.joblib')\n",
    "\n",
    "print(\"All models saved as joblib files successfully!\")\n"
   ]
  },
  {
   "cell_type": "raw",
   "id": "75efe60f-0c06-4f68-97fc-aa75ef49ff09",
   "metadata": {},
   "source": []
  },
  {
   "cell_type": "markdown",
   "id": "d4e5701d-c156-4a3c-99c0-e4bad6c2310f",
   "metadata": {},
   "source": [
    "FOODS TO EAT AND FOODS TO AVOID RECOMMENDATION"
   ]
  },
  {
   "cell_type": "code",
   "execution_count": null,
   "id": "a0a0c46d-1ab6-4cc1-a8f5-0eef35213663",
   "metadata": {},
   "outputs": [],
   "source": [
    "# Step 1: Define Parameters\n",
    "skin_concerns = [\n",
    "    \"Acne\", \"Dryness\", \"Oily Skin\", \"Wrinkles\", \"Dark Circles\",\n",
    "    \"Pigmentation\", \"Sunburn\", \"Blackheads\", \"Eczema\", \"Redness\"\n",
    "]\n",
    "\n",
    "diet_types = [\"veg\", \"nonveg\", \"vegan\", \"combination\"]\n",
    "\n",
    "foods_to_eat_mapping = {\n",
    "    \"Acne\": \"Carrot\", \"Dryness\": \"Avocado\", \"Oily Skin\": \"Cucumber\", \"Wrinkles\": \"Blueberries\",\n",
    "    \"Dark Circles\": \"Tomato\", \"Pigmentation\": \"Papaya\", \"Sunburn\": \"Watermelon\",\n",
    "    \"Blackheads\": \"Spinach\", \"Eczema\": \"Pumpkin\", \"Redness\": \"Sweet Potato\"\n",
    "}\n",
    "\n",
    "foods_to_avoid_mapping = {\n",
    "    \"Acne\": \"Chocolates\", \"Dryness\": \"Chips\", \"Oily Skin\": \"Fried Food\", \"Wrinkles\": \"Sugar\",\n",
    "    \"Dark Circles\": \"Caffeine\", \"Pigmentation\": \"Soft Drinks\", \"Sunburn\": \"Red Meat\",\n",
    "    \"Blackheads\": \"Creamy Food\", \"Eczema\": \"Spicy Food\", \"Redness\": \"Cheese\"\n",
    "}"
   ]
  },
  {
   "cell_type": "code",
   "execution_count": null,
   "id": "b28a1c99-b057-4f93-938c-72ff1f900968",
   "metadata": {},
   "outputs": [],
   "source": [
    "# Step 2: Generate 15,000 Records\n",
    "random.seed(42)\n",
    "data = []\n",
    "for _ in range(15000):\n",
    "    concern = random.choice(skin_concerns)\n",
    "    diet = random.choice(diet_types)\n",
    "    eat = foods_to_eat_mapping[concern]\n",
    "    avoid = foods_to_avoid_mapping[concern]\n",
    "    data.append([concern, diet, eat, avoid])\n",
    "\n",
    "df = pd.DataFrame(data, columns=[\"Skin_Concern\", \"Diet_Type\", \"Foods_to_Eat\", \"Foods_to_Avoid\"])\n"
   ]
  },
  {
   "cell_type": "code",
   "execution_count": null,
   "id": "6bfc243a-2d1f-40e8-90c5-bc0a0ebe5d7a",
   "metadata": {},
   "outputs": [],
   "source": [
    "# Step 3: Features & Targets\n",
    "X = df[[\"Skin_Concern\", \"Diet_Type\"]]\n",
    "y_eat = df[\"Foods_to_Eat\"]\n",
    "y_avoid = df[\"Foods_to_Avoid\"]"
   ]
  },
  {
   "cell_type": "code",
   "execution_count": null,
   "id": "693da1e0-01b9-47bf-ac93-bceb9bfc37b9",
   "metadata": {},
   "outputs": [],
   "source": [
    "# Step 4: Preprocessing & Pipelines\n",
    "preprocessor = ColumnTransformer([\n",
    "    ('cat', OrdinalEncoder(), [\"Skin_Concern\", \"Diet_Type\"])\n",
    "])\n",
    "\n",
    "pipeline_eat = Pipeline([\n",
    "    ('pre', preprocessor),\n",
    "    ('clf', RandomForestClassifier(n_estimators=100, random_state=42))\n",
    "])\n",
    "\n",
    "pipeline_avoid = Pipeline([\n",
    "    ('pre', preprocessor),\n",
    "    ('clf', RandomForestClassifier(n_estimators=100, random_state=42))\n",
    "])"
   ]
  },
  {
   "cell_type": "code",
   "execution_count": null,
   "id": "227df285-614a-440a-bf31-57181db96d18",
   "metadata": {},
   "outputs": [],
   "source": [
    "# Step 5: Split & Train\n",
    "X_train, X_test, y_eat_train, y_eat_test, y_avoid_train, y_avoid_test = train_test_split(\n",
    "    X, y_eat, y_avoid, test_size=0.2, random_state=42\n",
    ")\n",
    "\n",
    "pipeline_eat.fit(X_train, y_eat_train)\n",
    "pipeline_avoid.fit(X_train, y_avoid_train)\n"
   ]
  },
  {
   "cell_type": "code",
   "execution_count": null,
   "id": "9a00e918-b0f1-4f95-8b1a-e4119e80ff3e",
   "metadata": {},
   "outputs": [],
   "source": [
    "# Step 6: Accuracy\n",
    "print(\"Foods to Eat - Train:\", round(pipeline_eat.score(X_train, y_eat_train)*100, 2), \"% | Test:\",\n",
    "      round(pipeline_eat.score(X_test, y_eat_test)*100, 2), \"%\")\n",
    "print(\"Foods to Avoid - Train:\", round(pipeline_avoid.score(X_train, y_avoid_train)*100, 2), \"% | Test:\",\n",
    "      round(pipeline_avoid.score(X_test, y_avoid_test)*100, 2), \"%\")\n"
   ]
  },
  {
   "cell_type": "code",
   "execution_count": null,
   "id": "369aa3d8-fbed-43c6-a433-a4b8e7b56aaf",
   "metadata": {},
   "outputs": [],
   "source": [
    "# Predict for new input\n",
    "new_input = pd.DataFrame({\n",
    "    \"Skin_Concern\": [\"Pigmentation\"],\n",
    "    \"Diet_Type\": [\"nonveg\"]\n",
    "})\n",
    "\n",
    "eat_pred = pipeline_eat.predict(new_input)[0]\n",
    "avoid_pred = pipeline_avoid.predict(new_input)[0]\n",
    "\n",
    "print(\"\\n🎯 Recommendation:\")\n",
    "print(\"✅ Foods to Eat:\", eat_pred)\n",
    "print(\"❌ Foods to Avoid:\", avoid_pred)\n"
   ]
  },
  {
   "cell_type": "code",
   "execution_count": null,
   "id": "72278074-624a-474c-ab3a-d26d4ff23e30",
   "metadata": {},
   "outputs": [],
   "source": [
    "\n",
    "\n",
    "# Save both models to joblib files\n",
    "joblib.dump(pipeline_eat, 'foods_to_eat_model.joblib')\n",
    "joblib.dump(pipeline_avoid, 'foods_to_avoid_model.joblib')\n",
    "\n",
    "print(\"Models saved as 'foods_to_eat_model.joblib' and 'foods_to_avoid_model.joblib'\")\n"
   ]
  },
  {
   "cell_type": "code",
   "execution_count": null,
   "id": "c3a5b6a4-07a1-4344-b290-3650c085a2a5",
   "metadata": {},
   "outputs": [],
   "source": [
    "\n",
    "# Create a dictionary to store all models\n",
    "all_models = {\n",
    "    \"recommended_product_model\": pipeline,                      \n",
    "    \"home_remedy_model\": pipeline,                             \n",
    "    \"stress_level_model\": pipeline,                             \n",
    "    \"exercise_recommendation_model\": pipeline_exercise,\n",
    "    \"exercise_duration_model\": pipeline_duration,\n",
    "    \"exercise_description_model\": pipeline_description,\n",
    "    \"foods_to_eat_model\": pipeline_eat,\n",
    "    \"foods_to_avoid_model\": pipeline_avoid\n",
    "}\n",
    "\n",
    "# Save all models in a single .joblib file\n",
    "joblib.dump(all_models, \"glowguide_all_models.joblib\")\n",
    "print(\"All models saved together as 'glowguide_all_models.joblib'\")\n"
   ]
  },
  {
   "cell_type": "code",
   "execution_count": null,
   "id": "e8a458f2-4160-4de8-a531-1a55eaaeea9c",
   "metadata": {},
   "outputs": [],
   "source": [
    "models = joblib.load('glowguide_all_models.joblib')\n",
    "print(\"Model keys:\", list(models.keys()))\n"
   ]
  },
  {
   "cell_type": "code",
   "execution_count": null,
   "id": "d359cb3b-3245-427e-b4e0-f35ed1366769",
   "metadata": {},
   "outputs": [],
   "source": []
  },
  {
   "cell_type": "code",
   "execution_count": null,
   "id": "0719c960-1b6e-4c4b-8eb3-6ba21cb1fe2c",
   "metadata": {},
   "outputs": [],
   "source": []
  },
  {
   "cell_type": "code",
   "execution_count": null,
   "id": "2df1c7d4-5802-4fd9-b95d-d41429698590",
   "metadata": {},
   "outputs": [],
   "source": []
  },
  {
   "cell_type": "code",
   "execution_count": null,
   "id": "750e0a21-5294-4b8f-a35d-f6e54cf6032a",
   "metadata": {},
   "outputs": [],
   "source": []
  }
 ],
 "metadata": {
  "kernelspec": {
   "display_name": "Python 3 (ipykernel)",
   "language": "python",
   "name": "python3"
  },
  "language_info": {
   "codemirror_mode": {
    "name": "ipython",
    "version": 3
   },
   "file_extension": ".py",
   "mimetype": "text/x-python",
   "name": "python",
   "nbconvert_exporter": "python",
   "pygments_lexer": "ipython3",
   "version": "3.12.7"
  }
 },
 "nbformat": 4,
 "nbformat_minor": 5
}
